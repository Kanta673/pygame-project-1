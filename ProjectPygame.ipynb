{
 "cells": [
  {
   "cell_type": "code",
   "execution_count": 4,
   "metadata": {},
   "outputs": [
    {
     "ename": "SystemExit",
     "evalue": "",
     "output_type": "error",
     "traceback": [
      "An exception has occurred, use %tb to see the full traceback.\n",
      "\u001b[1;31mSystemExit\u001b[0m\n"
     ]
    }
   ],
   "source": [
    "import pygame\n",
    "import sys\n",
    "\n",
    "class Button:\n",
    "    def __init__(self, image_path, x, y):\n",
    "        # Load button image and create a rect for positioning and collision\n",
    "        self.image = pygame.image.load(image_path)\n",
    "        self.rect = self.image.get_rect(topleft=(x, y))\n",
    "\n",
    "    def draw(self, screen):\n",
    "        # Draw the button image onto the screen\n",
    "        screen.blit(self.image, self.rect.topleft)\n",
    "\n",
    "class Game:\n",
    "    def __init__(self):\n",
    "        pygame.init()\n",
    "        self.SCREEN_WIDTH = 1280\n",
    "        self.SCREEN_HEIGHT = 720\n",
    "        self.screen = pygame.display.set_mode((self.SCREEN_WIDTH,self.SCREEN_HEIGHT))\n",
    "        pygame.display.set_caption(\"เกมทายคาม\")\n",
    "\n",
    "        self.bg_img = pygame.image.load(\"bg picture.png\")\n",
    "\n",
    "        self.play_button = Button(\"play button.png\", 250, 500)\n",
    "        self.hint_button = Button(\"hint button.png\", 600, 500)\n",
    "        self.home_button = Button(\"home button.png\", 950, 500)\n",
    "\n",
    "        self.running = True\n",
    "\n",
    "    def run(self):\n",
    "        while self.running:\n",
    "            self.handle_events()\n",
    "            self.draw()\n",
    "            pygame.display.flip()  \n",
    "        \n",
    "        pygame.quit()\n",
    "        sys.exit()\n",
    "\n",
    "    def handle_events(self):\n",
    "        # Event handling\n",
    "        for event in pygame.event.get():\n",
    "            if event.type == pygame.QUIT:\n",
    "                self.running = False\n",
    "\n",
    "    def draw(self):\n",
    "        # Draw background and buttons\n",
    "        self.screen.blit(self.bg_img, (0, 0))\n",
    "        self.play_button.draw(self.screen)\n",
    "        self.hint_button.draw(self.screen)\n",
    "        self.home_button.draw(self.screen)\n",
    "\n",
    "# Start the game\n",
    "if __name__ == \"__main__\":\n",
    "    game = Game()\n",
    "    game.run()\n",
    "        "
   ]
  }
 ],
 "metadata": {
  "kernelspec": {
   "display_name": "Python 3",
   "language": "python",
   "name": "python3"
  },
  "language_info": {
   "codemirror_mode": {
    "name": "ipython",
    "version": 3
   },
   "file_extension": ".py",
   "mimetype": "text/x-python",
   "name": "python",
   "nbconvert_exporter": "python",
   "pygments_lexer": "ipython3",
   "version": "3.12.7"
  }
 },
 "nbformat": 4,
 "nbformat_minor": 2
}
